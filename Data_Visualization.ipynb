{
 "cells": [
  {
   "cell_type": "code",
   "execution_count": 2,
   "metadata": {},
   "outputs": [],
   "source": [
    "import numpy as np\n",
    "import matplotlib.pyplot as plt\n",
    "import pandas as pd"
   ]
  },
  {
   "cell_type": "code",
   "execution_count": 3,
   "metadata": {},
   "outputs": [],
   "source": [
    "df = pd.read_csv('tn_pop.csv')  "
   ]
  },
  {
   "cell_type": "code",
   "execution_count": 4,
   "metadata": {},
   "outputs": [
    {
     "data": {
      "text/html": [
       "<div>\n",
       "<style scoped>\n",
       "    .dataframe tbody tr th:only-of-type {\n",
       "        vertical-align: middle;\n",
       "    }\n",
       "\n",
       "    .dataframe tbody tr th {\n",
       "        vertical-align: top;\n",
       "    }\n",
       "\n",
       "    .dataframe thead th {\n",
       "        text-align: right;\n",
       "    }\n",
       "</style>\n",
       "<table border=\"1\" class=\"dataframe\">\n",
       "  <thead>\n",
       "    <tr style=\"text-align: right;\">\n",
       "      <th></th>\n",
       "      <th>Sl.No</th>\n",
       "      <th>Census Year</th>\n",
       "      <th>Population (in lakhs)</th>\n",
       "      <th>Total Percentage of Literacy</th>\n",
       "      <th>Male Percentage of Literacy</th>\n",
       "      <th>Female Percentage of Literacy</th>\n",
       "    </tr>\n",
       "  </thead>\n",
       "  <tbody>\n",
       "    <tr>\n",
       "      <th>0</th>\n",
       "      <td>1</td>\n",
       "      <td>1951</td>\n",
       "      <td>301.2</td>\n",
       "      <td>20.80</td>\n",
       "      <td>31.70</td>\n",
       "      <td>10.10</td>\n",
       "    </tr>\n",
       "    <tr>\n",
       "      <th>1</th>\n",
       "      <td>2</td>\n",
       "      <td>1961</td>\n",
       "      <td>336.9</td>\n",
       "      <td>36.39</td>\n",
       "      <td>51.59</td>\n",
       "      <td>21.06</td>\n",
       "    </tr>\n",
       "    <tr>\n",
       "      <th>2</th>\n",
       "      <td>3</td>\n",
       "      <td>1971</td>\n",
       "      <td>412.0</td>\n",
       "      <td>45.40</td>\n",
       "      <td>59.54</td>\n",
       "      <td>30.92</td>\n",
       "    </tr>\n",
       "    <tr>\n",
       "      <th>3</th>\n",
       "      <td>4</td>\n",
       "      <td>1981</td>\n",
       "      <td>484.1</td>\n",
       "      <td>54.39</td>\n",
       "      <td>68.05</td>\n",
       "      <td>40.43</td>\n",
       "    </tr>\n",
       "    <tr>\n",
       "      <th>4</th>\n",
       "      <td>5</td>\n",
       "      <td>1991</td>\n",
       "      <td>558.6</td>\n",
       "      <td>62.66</td>\n",
       "      <td>73.75</td>\n",
       "      <td>51.33</td>\n",
       "    </tr>\n",
       "    <tr>\n",
       "      <th>5</th>\n",
       "      <td>6</td>\n",
       "      <td>2001</td>\n",
       "      <td>624.1</td>\n",
       "      <td>73.47</td>\n",
       "      <td>82.33</td>\n",
       "      <td>64.55</td>\n",
       "    </tr>\n",
       "    <tr>\n",
       "      <th>6</th>\n",
       "      <td>7</td>\n",
       "      <td>2011</td>\n",
       "      <td>721.4</td>\n",
       "      <td>80.09</td>\n",
       "      <td>86.77</td>\n",
       "      <td>73.44</td>\n",
       "    </tr>\n",
       "  </tbody>\n",
       "</table>\n",
       "</div>"
      ],
      "text/plain": [
       "   Sl.No  Census Year  Population (in lakhs)  Total Percentage of Literacy  \\\n",
       "0      1         1951                  301.2                         20.80   \n",
       "1      2         1961                  336.9                         36.39   \n",
       "2      3         1971                  412.0                         45.40   \n",
       "3      4         1981                  484.1                         54.39   \n",
       "4      5         1991                  558.6                         62.66   \n",
       "5      6         2001                  624.1                         73.47   \n",
       "6      7         2011                  721.4                         80.09   \n",
       "\n",
       "   Male Percentage of Literacy  Female Percentage of Literacy  \n",
       "0                        31.70                          10.10  \n",
       "1                        51.59                          21.06  \n",
       "2                        59.54                          30.92  \n",
       "3                        68.05                          40.43  \n",
       "4                        73.75                          51.33  \n",
       "5                        82.33                          64.55  \n",
       "6                        86.77                          73.44  "
      ]
     },
     "execution_count": 4,
     "metadata": {},
     "output_type": "execute_result"
    }
   ],
   "source": [
    "df"
   ]
  },
  {
   "cell_type": "code",
   "execution_count": null,
   "metadata": {},
   "outputs": [],
   "source": []
  },
  {
   "cell_type": "code",
   "execution_count": 14,
   "metadata": {},
   "outputs": [],
   "source": [
    "years = df['Census Year']"
   ]
  },
  {
   "cell_type": "code",
   "execution_count": 12,
   "metadata": {},
   "outputs": [
    {
     "data": {
      "text/plain": [
       "pandas.core.series.Series"
      ]
     },
     "execution_count": 12,
     "metadata": {},
     "output_type": "execute_result"
    }
   ],
   "source": [
    "popu = df['Population (in lakhs)']\n",
    "type(popu)"
   ]
  },
  {
   "cell_type": "code",
   "execution_count": 16,
   "metadata": {},
   "outputs": [],
   "source": [
    "litperc = df['Total Percentage of Literacy']"
   ]
  },
  {
   "cell_type": "code",
   "execution_count": 29,
   "metadata": {},
   "outputs": [],
   "source": [
    "malel = df['Male Percentage of Literacy']\n",
    "femalel = df['Female Percentage of Literacy']"
   ]
  },
  {
   "cell_type": "code",
   "execution_count": null,
   "metadata": {},
   "outputs": [],
   "source": []
  },
  {
   "cell_type": "code",
   "execution_count": null,
   "metadata": {},
   "outputs": [],
   "source": []
  },
  {
   "cell_type": "code",
   "execution_count": null,
   "metadata": {},
   "outputs": [],
   "source": [
    "fig = plt.figure()\n",
    "ax = fig.add_axes([0,0,1,1])\n",
    "langs = ['C', 'C++', 'Java', 'Python', 'PHP']\n",
    "students = [23,17,35,29,12]\n",
    "ax.bar(langs,students)\n",
    "plt.show()"
   ]
  },
  {
   "cell_type": "code",
   "execution_count": 27,
   "metadata": {},
   "outputs": [
    {
     "data": {
      "image/png": "[encoded data removed]",
      "text/plain": [
       "<Figure size 432x288 with 1 Axes>"
      ]
     },
     "metadata": {
      "needs_background": "light"
     },
     "output_type": "display_data"
    }
   ],
   "source": [
    "plt.plot(years, litperc)\n",
    "plt.xlabel('Years', fontsize=14)\n",
    "plt.ylabel('Literacy(%)', fontsize=14)\n",
    "plt.title('Literacy Rate in Tamil Nadu', fontsize = 18)\n",
    "plt.savefig('lineplot.png')"
   ]
  },
  {
   "cell_type": "code",
   "execution_count": null,
   "metadata": {},
   "outputs": [],
   "source": []
  },
  {
   "cell_type": "code",
   "execution_count": 48,
   "metadata": {
    "scrolled": true
   },
   "outputs": [
    {
     "data": {
      "image/png": "[encoded data removed]",
      "text/plain": [
       "<Figure size 432x288 with 1 Axes>"
      ]
     },
     "metadata": {
      "needs_background": "light"
     },
     "output_type": "display_data"
    }
   ],
   "source": [
    "fig = plt.figure()\n",
    "ax = fig.add_axes([0,0,1,1])\n",
    "ax.bar(years-1, malel, color = 'b', width=2.5)\n",
    "ax.bar(years+1.5, femalel, color = 'r', width=2.5)\n",
    "ax.set_ylabel('Literacy(%)', fontsize=14)\n",
    "ax.set_title('Literacy vs Gender', fontsize=14)\n",
    "# ax.set_xticks(ind, ('G1', 'G2', 'G3', 'G4', 'G5'))\n",
    "ax.set_yticks(np.arange(0, 81, 10))\n",
    "ax.legend(labels=['Male', 'Female'])\n",
    "plt.show()\n",
    "fig.savefig('barplot.png')"
   ]
  },
  {
   "cell_type": "code",
   "execution_count": null,
   "metadata": {},
   "outputs": [],
   "source": []
  },
  {
   "cell_type": "code",
   "execution_count": 49,
   "metadata": {},
   "outputs": [],
   "source": [
    "df2 = pd.read_csv('ener.csv')  "
   ]
  },
  {
   "cell_type": "code",
   "execution_count": 50,
   "metadata": {},
   "outputs": [
    {
     "data": {
      "text/html": [
       "<div>\n",
       "<style scoped>\n",
       "    .dataframe tbody tr th:only-of-type {\n",
       "        vertical-align: middle;\n",
       "    }\n",
       "\n",
       "    .dataframe tbody tr th {\n",
       "        vertical-align: top;\n",
       "    }\n",
       "\n",
       "    .dataframe thead th {\n",
       "        text-align: right;\n",
       "    }\n",
       "</style>\n",
       "<table border=\"1\" class=\"dataframe\">\n",
       "  <thead>\n",
       "    <tr style=\"text-align: right;\">\n",
       "      <th></th>\n",
       "      <th>Year</th>\n",
       "      <th>Oil</th>\n",
       "      <th>Natural Gas</th>\n",
       "      <th>Coal</th>\n",
       "      <th>Nuclear Energy</th>\n",
       "      <th>Hydro electricity</th>\n",
       "      <th>Renewables</th>\n",
       "      <th>Total</th>\n",
       "    </tr>\n",
       "  </thead>\n",
       "  <tbody>\n",
       "    <tr>\n",
       "      <th>0</th>\n",
       "      <td>2012</td>\n",
       "      <td>4176.2</td>\n",
       "      <td>3010.5</td>\n",
       "      <td>3817.3</td>\n",
       "      <td>559.2</td>\n",
       "      <td>832.1</td>\n",
       "      <td>238.5</td>\n",
       "      <td>12633.8</td>\n",
       "    </tr>\n",
       "    <tr>\n",
       "      <th>1</th>\n",
       "      <td>2013</td>\n",
       "      <td>4220.9</td>\n",
       "      <td>3054.4</td>\n",
       "      <td>3887.0</td>\n",
       "      <td>563.9</td>\n",
       "      <td>859.2</td>\n",
       "      <td>280.7</td>\n",
       "      <td>12866.0</td>\n",
       "    </tr>\n",
       "    <tr>\n",
       "      <th>2</th>\n",
       "      <td>2014</td>\n",
       "      <td>4254.8</td>\n",
       "      <td>3073.0</td>\n",
       "      <td>3889.4</td>\n",
       "      <td>575.0</td>\n",
       "      <td>879.3</td>\n",
       "      <td>317.3</td>\n",
       "      <td>12988.8</td>\n",
       "    </tr>\n",
       "    <tr>\n",
       "      <th>3</th>\n",
       "      <td>2015</td>\n",
       "      <td>4341.0</td>\n",
       "      <td>3146.7</td>\n",
       "      <td>3784.7</td>\n",
       "      <td>582.7</td>\n",
       "      <td>883.2</td>\n",
       "      <td>366.7</td>\n",
       "      <td>13105.0</td>\n",
       "    </tr>\n",
       "    <tr>\n",
       "      <th>4</th>\n",
       "      <td>2016</td>\n",
       "      <td>4557.3</td>\n",
       "      <td>3073.2</td>\n",
       "      <td>3706.0</td>\n",
       "      <td>591.2</td>\n",
       "      <td>913.3</td>\n",
       "      <td>417.4</td>\n",
       "      <td>13258.5</td>\n",
       "    </tr>\n",
       "    <tr>\n",
       "      <th>5</th>\n",
       "      <td>2017</td>\n",
       "      <td>4607.0</td>\n",
       "      <td>3141.9</td>\n",
       "      <td>3718.4</td>\n",
       "      <td>597.1</td>\n",
       "      <td>919.9</td>\n",
       "      <td>490.2</td>\n",
       "      <td>13474.6</td>\n",
       "    </tr>\n",
       "    <tr>\n",
       "      <th>6</th>\n",
       "      <td>2018</td>\n",
       "      <td>4662.1</td>\n",
       "      <td>3309.4</td>\n",
       "      <td>3772.1</td>\n",
       "      <td>611.3</td>\n",
       "      <td>948.8</td>\n",
       "      <td>561.3</td>\n",
       "      <td>13864.9</td>\n",
       "    </tr>\n",
       "  </tbody>\n",
       "</table>\n",
       "</div>"
      ],
      "text/plain": [
       "   Year     Oil  Natural Gas    Coal  Nuclear Energy  Hydro electricity  \\\n",
       "0  2012  4176.2       3010.5  3817.3           559.2              832.1   \n",
       "1  2013  4220.9       3054.4  3887.0           563.9              859.2   \n",
       "2  2014  4254.8       3073.0  3889.4           575.0              879.3   \n",
       "3  2015  4341.0       3146.7  3784.7           582.7              883.2   \n",
       "4  2016  4557.3       3073.2  3706.0           591.2              913.3   \n",
       "5  2017  4607.0       3141.9  3718.4           597.1              919.9   \n",
       "6  2018  4662.1       3309.4  3772.1           611.3              948.8   \n",
       "\n",
       "   Renewables    Total  \n",
       "0       238.5  12633.8  \n",
       "1       280.7  12866.0  \n",
       "2       317.3  12988.8  \n",
       "3       366.7  13105.0  \n",
       "4       417.4  13258.5  \n",
       "5       490.2  13474.6  \n",
       "6       561.3  13864.9  "
      ]
     },
     "execution_count": 50,
     "metadata": {},
     "output_type": "execute_result"
    }
   ],
   "source": [
    "df2"
   ]
  },
  {
   "cell_type": "code",
   "execution_count": 51,
   "metadata": {},
   "outputs": [],
   "source": [
    "oil = df2['Oil']"
   ]
  },
  {
   "cell_type": "code",
   "execution_count": 52,
   "metadata": {},
   "outputs": [],
   "source": [
    "renewables = df2['Renewables']"
   ]
  },
  {
   "cell_type": "code",
   "execution_count": 57,
   "metadata": {},
   "outputs": [
    {
     "data": {
      "image/png": "[encoded data removed]",
      "text/plain": [
       "<Figure size 432x288 with 1 Axes>"
      ]
     },
     "metadata": {
      "needs_background": "light"
     },
     "output_type": "display_data"
    }
   ],
   "source": [
    "plt.scatter(renewables, oil)\n",
    "plt.xlabel('Renewables', fontsize=14)\n",
    "plt.ylabel('Oil', fontsize=14)\n",
    "plt.title('Energy consumption between 2012-2018', fontsize=18)\n",
    "plt.savefig('scatter.png')"
   ]
  },
  {
   "cell_type": "code",
   "execution_count": null,
   "metadata": {},
   "outputs": [],
   "source": []
  },
  {
   "cell_type": "code",
   "execution_count": 58,
   "metadata": {},
   "outputs": [],
   "source": [
    "df3 = pd.read_csv('hypert.csv')  "
   ]
  },
  {
   "cell_type": "code",
   "execution_count": 59,
   "metadata": {},
   "outputs": [
    {
     "data": {
      "text/html": [
       "<div>\n",
       "<style scoped>\n",
       "    .dataframe tbody tr th:only-of-type {\n",
       "        vertical-align: middle;\n",
       "    }\n",
       "\n",
       "    .dataframe tbody tr th {\n",
       "        vertical-align: top;\n",
       "    }\n",
       "\n",
       "    .dataframe thead th {\n",
       "        text-align: right;\n",
       "    }\n",
       "</style>\n",
       "<table border=\"1\" class=\"dataframe\">\n",
       "  <thead>\n",
       "    <tr style=\"text-align: right;\">\n",
       "      <th></th>\n",
       "      <th>States</th>\n",
       "      <th>Districts</th>\n",
       "      <th>Hypertension  (age 18 years and above) (%) - Above Normal Range (Systolic &gt;140 mm of Hg &amp; Diastolic &gt;90 mm of Hg )</th>\n",
       "      <th>Hypertension  (age 18 years and above) (%) - Moderately High (Systolic &gt;160 mm of Hg &amp; Diastolic &gt;100 mm of Hg )</th>\n",
       "      <th>Hypertension  (age 18 years and above) (%) - Very High (Systolic &gt;180 mm of Hg &amp; Diastolic &gt;110 mm of Hg )</th>\n",
       "    </tr>\n",
       "  </thead>\n",
       "  <tbody>\n",
       "    <tr>\n",
       "      <th>0</th>\n",
       "      <td>Andaman and Nicobar Islands</td>\n",
       "      <td>Total</td>\n",
       "      <td>30.8</td>\n",
       "      <td>12.7</td>\n",
       "      <td>5.6</td>\n",
       "    </tr>\n",
       "    <tr>\n",
       "      <th>1</th>\n",
       "      <td>Andaman and Nicobar Islands</td>\n",
       "      <td>North &amp; Middle Andamans</td>\n",
       "      <td>30.8</td>\n",
       "      <td>9.3</td>\n",
       "      <td>4.2</td>\n",
       "    </tr>\n",
       "    <tr>\n",
       "      <th>2</th>\n",
       "      <td>Andaman and Nicobar Islands</td>\n",
       "      <td>South Andaman</td>\n",
       "      <td>24.7</td>\n",
       "      <td>11.2</td>\n",
       "      <td>4.4</td>\n",
       "    </tr>\n",
       "    <tr>\n",
       "      <th>3</th>\n",
       "      <td>Andaman and Nicobar Islands</td>\n",
       "      <td>Nicobars</td>\n",
       "      <td>44.7</td>\n",
       "      <td>19.9</td>\n",
       "      <td>9.3</td>\n",
       "    </tr>\n",
       "    <tr>\n",
       "      <th>4</th>\n",
       "      <td>Andhra Pradesh</td>\n",
       "      <td>Total</td>\n",
       "      <td>23.4</td>\n",
       "      <td>9.0</td>\n",
       "      <td>3.5</td>\n",
       "    </tr>\n",
       "    <tr>\n",
       "      <th>...</th>\n",
       "      <td>...</td>\n",
       "      <td>...</td>\n",
       "      <td>...</td>\n",
       "      <td>...</td>\n",
       "      <td>...</td>\n",
       "    </tr>\n",
       "    <tr>\n",
       "      <th>290</th>\n",
       "      <td>West Bengal</td>\n",
       "      <td>Paschim Medinipur</td>\n",
       "      <td>22.5</td>\n",
       "      <td>6.5</td>\n",
       "      <td>2.7</td>\n",
       "    </tr>\n",
       "    <tr>\n",
       "      <th>291</th>\n",
       "      <td>West Bengal</td>\n",
       "      <td>Haora</td>\n",
       "      <td>27.8</td>\n",
       "      <td>10.1</td>\n",
       "      <td>3.6</td>\n",
       "    </tr>\n",
       "    <tr>\n",
       "      <th>292</th>\n",
       "      <td>West Bengal</td>\n",
       "      <td>Kolkata</td>\n",
       "      <td>30.5</td>\n",
       "      <td>9.8</td>\n",
       "      <td>4.0</td>\n",
       "    </tr>\n",
       "    <tr>\n",
       "      <th>293</th>\n",
       "      <td>West Bengal</td>\n",
       "      <td>South 24 Parganas</td>\n",
       "      <td>19.4</td>\n",
       "      <td>5.8</td>\n",
       "      <td>2.3</td>\n",
       "    </tr>\n",
       "    <tr>\n",
       "      <th>294</th>\n",
       "      <td>West Bengal</td>\n",
       "      <td>Purba Medinipur</td>\n",
       "      <td>16.4</td>\n",
       "      <td>4.5</td>\n",
       "      <td>1.6</td>\n",
       "    </tr>\n",
       "  </tbody>\n",
       "</table>\n",
       "<p>295 rows × 5 columns</p>\n",
       "</div>"
      ],
      "text/plain": [
       "                          States                Districts  \\\n",
       "0    Andaman and Nicobar Islands                    Total   \n",
       "1    Andaman and Nicobar Islands  North & Middle Andamans   \n",
       "2    Andaman and Nicobar Islands            South Andaman   \n",
       "3    Andaman and Nicobar Islands                 Nicobars   \n",
       "4                 Andhra Pradesh                    Total   \n",
       "..                           ...                      ...   \n",
       "290                  West Bengal        Paschim Medinipur   \n",
       "291                  West Bengal                    Haora   \n",
       "292                  West Bengal                  Kolkata   \n",
       "293                  West Bengal        South 24 Parganas   \n",
       "294                  West Bengal          Purba Medinipur   \n",
       "\n",
       "     Hypertension  (age 18 years and above) (%) - Above Normal Range (Systolic >140 mm of Hg & Diastolic >90 mm of Hg )  \\\n",
       "0                                                 30.8                                                                    \n",
       "1                                                 30.8                                                                    \n",
       "2                                                 24.7                                                                    \n",
       "3                                                 44.7                                                                    \n",
       "4                                                 23.4                                                                    \n",
       "..                                                 ...                                                                    \n",
       "290                                               22.5                                                                    \n",
       "291                                               27.8                                                                    \n",
       "292                                               30.5                                                                    \n",
       "293                                               19.4                                                                    \n",
       "294                                               16.4                                                                    \n",
       "\n",
       "     Hypertension  (age 18 years and above) (%) - Moderately High (Systolic >160 mm of Hg & Diastolic >100 mm of Hg )  \\\n",
       "0                                                 12.7                                                                  \n",
       "1                                                  9.3                                                                  \n",
       "2                                                 11.2                                                                  \n",
       "3                                                 19.9                                                                  \n",
       "4                                                  9.0                                                                  \n",
       "..                                                 ...                                                                  \n",
       "290                                                6.5                                                                  \n",
       "291                                               10.1                                                                  \n",
       "292                                                9.8                                                                  \n",
       "293                                                5.8                                                                  \n",
       "294                                                4.5                                                                  \n",
       "\n",
       "     Hypertension  (age 18 years and above) (%) - Very High (Systolic >180 mm of Hg & Diastolic >110 mm of Hg )  \n",
       "0                                                  5.6                                                           \n",
       "1                                                  4.2                                                           \n",
       "2                                                  4.4                                                           \n",
       "3                                                  9.3                                                           \n",
       "4                                                  3.5                                                           \n",
       "..                                                 ...                                                           \n",
       "290                                                2.7                                                           \n",
       "291                                                3.6                                                           \n",
       "292                                                4.0                                                           \n",
       "293                                                2.3                                                           \n",
       "294                                                1.6                                                           \n",
       "\n",
       "[295 rows x 5 columns]"
      ]
     },
     "execution_count": 59,
     "metadata": {},
     "output_type": "execute_result"
    }
   ],
   "source": [
    "df3"
   ]
  },
  {
   "cell_type": "code",
   "execution_count": 74,
   "metadata": {},
   "outputs": [],
   "source": [
    "very_high_hypert_percent = df3.iloc[:, 4]\n",
    "moderate_high_hypert_percent = df3.iloc[:, 3]"
   ]
  },
  {
   "cell_type": "code",
   "execution_count": null,
   "metadata": {},
   "outputs": [],
   "source": []
  },
  {
   "cell_type": "code",
   "execution_count": 92,
   "metadata": {},
   "outputs": [
    {
     "data": {
      "image/png": "[encoded data removed]",
      "text/plain": [
       "<Figure size 432x288 with 1 Axes>"
      ]
     },
     "metadata": {
      "needs_background": "light"
     },
     "output_type": "display_data"
    }
   ],
   "source": [
    "fig1, ax1 = plt.subplots()\n",
    "ax1.set_title('Basic Plot')\n",
    "ax1.boxplot([very_high_hypert_percent, moderate_high_hypert_percent])\n",
    "ax1.set_ylabel('% of a district with hypertension', fontsize=14)\n",
    "ax1.set_xticklabels(['Very High', 'Moderate'])\n",
    "ax1.set_title('Distribution of percent of districts with hypertension', fontsize=18)\n",
    "fig1.savefig('boxplot.png')"
   ]
  },
  {
   "cell_type": "code",
   "execution_count": null,
   "metadata": {},
   "outputs": [],
   "source": []
  },
  {
   "cell_type": "code",
   "execution_count": null,
   "metadata": {},
   "outputs": [],
   "source": []
  }
 ],
 "metadata": {
  "kernelspec": {
   "display_name": "Python 3",
   "language": "python",
   "name": "python3"
  },
  "language_info": {
   "codemirror_mode": {
    "name": "ipython",
    "version": 3
   },
   "file_extension": ".py",
   "mimetype": "text/x-python",
   "name": "python",
   "nbconvert_exporter": "python",
   "pygments_lexer": "ipython3",
   "version": "3.6.9"
  }
 },
 "nbformat": 4,
 "nbformat_minor": 4
}
